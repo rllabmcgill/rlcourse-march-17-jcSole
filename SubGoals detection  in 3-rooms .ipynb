{
 "cells": [
  {
   "cell_type": "code",
   "execution_count": 11,
   "metadata": {
    "collapsed": true
   },
   "outputs": [],
   "source": [
    "import numpy as np\n",
    "import matplotlib.pyplot as plt"
   ]
  },
  {
   "cell_type": "code",
   "execution_count": 12,
   "metadata": {
    "collapsed": true
   },
   "outputs": [],
   "source": [
    "%matplotlib inline"
   ]
  },
  {
   "cell_type": "markdown",
   "metadata": {},
   "source": [
    "## Three rooms grid"
   ]
  },
  {
   "cell_type": "code",
   "execution_count": 13,
   "metadata": {
    "collapsed": false
   },
   "outputs": [
    {
     "data": {
      "image/png": "[encoded data removed]",
      "text/plain": [
       "<matplotlib.figure.Figure at 0x741b278>"
      ]
     },
     "metadata": {},
     "output_type": "display_data"
    }
   ],
   "source": [
    "grid = np.zeros((10,21))\n",
    "grid[:,10] = -3\n",
    "grid[4,10] =  0\n",
    "grid[:,15] = -3\n",
    "grid[0,15] =  0\n",
    "\n",
    "START= (0,0)\n",
    "GOAL = (9,20)\n",
    "WESTregion_LIMIT = 10 #not included \n",
    "\n",
    "grid[START] = -1\n",
    "grid[GOAL]  = -1\n",
    "plt.imshow(grid, cmap='gray', interpolation='nearest', extent = [0,21,0,10])\n",
    "ax = plt.gca();\n",
    "ax.set_xticks(np.arange(0,21, 1));\n",
    "ax.set_yticks(np.arange(0, 10, 1));\n",
    "ax.set_xticklabels([]);\n",
    "ax.set_yticklabels([]);\n",
    "plt.grid(color='black', which = 'major', linestyle='-')\n",
    "plt.show()\n",
    "\n",
    "grid[START] = 0\n",
    "grid[GOAL]  = 0"
   ]
  },
  {
   "cell_type": "code",
   "execution_count": 25,
   "metadata": {
    "collapsed": true
   },
   "outputs": [],
   "source": [
    "from collections import defaultdict\n",
    "from utils import getTransitions_and_Rewards\n",
    "from random import shuffle"
   ]
  },
  {
   "cell_type": "code",
   "execution_count": 15,
   "metadata": {
    "collapsed": false
   },
   "outputs": [],
   "source": [
    "\"\"\"\n",
    "actions  = [up,down,right,left]\n",
    "\"\"\"\n",
    "trans, r = getTransitions_and_Rewards(grid, GOAL)\n",
    "gamma = 0.9\n",
    "p_uniform = 0.1"
   ]
  },
  {
   "cell_type": "markdown",
   "metadata": {},
   "source": [
    "## SubGoals discovery"
   ]
  },
  {
   "cell_type": "code",
   "execution_count": 16,
   "metadata": {
    "collapsed": true
   },
   "outputs": [],
   "source": [
    "novelty     = lambda s: 1.0/np.sqrt(nbVisits[s])\n",
    "\n",
    "set_novelty = lambda S: 1.0/np.sqrt(nbVisits[np.array([s[0] for s in S]), np.array([s[1] for s in S])].mean())  \n",
    "\n",
    "def rel_novelty(prev_sequence, succ_sequence):\n",
    "    return float(set_novelty(succ_sequence)) / set_novelty(prev_sequence)"
   ]
  },
  {
   "cell_type": "code",
   "execution_count": 17,
   "metadata": {
    "collapsed": true
   },
   "outputs": [],
   "source": [
    "def isTarget(state):    \n",
    "    n1 = sum(scores[state])\n",
    "    n  = len(scores[state])\n",
    "    rhs= np.log(float((1-q))/(1-p)) / np.log(float(p*(1-q))/q*(1-p)) + 1.0/n * (np.log(float(costRatio * priorRatio))/ np.log(float(p*(1-q)) / (q*(1-p))))\n",
    "    if (float(n1)/n > rhs):\n",
    "        return True\n",
    "    return False"
   ]
  },
  {
   "cell_type": "code",
   "execution_count": 26,
   "metadata": {
    "collapsed": true
   },
   "outputs": [],
   "source": [
    "from IPython.display import clear_output\n",
    "import sys\n",
    "from random import shuffle"
   ]
  },
  {
   "cell_type": "code",
   "execution_count": 23,
   "metadata": {
    "collapsed": true
   },
   "outputs": [],
   "source": [
    "#with random ties breaking (and not just taking first action, otherwise I go into loop becuase rewards are 0 for non-term)\n",
    "def greedyAction(state, Q):\n",
    "    actions = range(4)\n",
    "    shuffle(actions)\n",
    "    \n",
    "    bestAct = -1\n",
    "    qMax = -np.inf\n",
    "    \n",
    "    for a in actions:        \n",
    "        if Q[state][a] > qMax:\n",
    "            bestAct = a\n",
    "            qMax    = Q[state][a]\n",
    "    \n",
    "    return bestAct\n",
    "        "
   ]
  },
  {
   "cell_type": "code",
   "execution_count": null,
   "metadata": {
    "collapsed": false
   },
   "outputs": [
    {
     "name": "stdout",
     "output_type": "stream",
     "text": [
      "Run:  1\n",
      "Episode: 18\n"
     ]
    }
   ],
   "source": [
    "\"\"\" Classification parameters\"\"\"\n",
    "t_RN = 2\n",
    "p = 0.0712\n",
    "q = 0.0056\n",
    "costRatio = 100\n",
    "priorRatio = 100\n",
    "ln = 7\n",
    "lo = 10 #nb states to include in the Inititation state\n",
    "\n",
    "\n",
    "westRegion = [(i,j) for i in range(10) for j in range(WESTregion_LIMIT)]\n",
    "eps = 0.1\n",
    "alpha = 0.05\n",
    "nbEpisodes = 80\n",
    "\n",
    "nbSubGoal_tot = np.zeros((10,21))\n",
    "\n",
    "goals_per_run = []\n",
    "\n",
    "with warnings.catch_warnings():\n",
    "    warnings.simplefilter('error')\n",
    "    \n",
    "    for run in range(30):    \n",
    "        Q = defaultdict(lambda: [0,0,0,0]) \n",
    "        scores = defaultdict(list)\n",
    "        nbSubGoal = np.zeros((10,21))    \n",
    "\n",
    "        Options = defaultdict(lambda: [0,0,0,0])\n",
    "        for episode in range(80): \n",
    "            clear_output()  \n",
    "            print \"Run: \",run\n",
    "            print \"Episode:\", episode\n",
    "            sys.stdout.flush()\n",
    "            #RESET visit counts periodically\n",
    "            nbVisits = np.zeros((10,21))        \n",
    "            states_visited = []        \n",
    "\n",
    "            state = START\n",
    "\n",
    "            states_visited.append(state)\n",
    "            nbVisits[state] +=1  #should I count as visit also the starting visit?\n",
    "\n",
    "            while (state != GOAL):\n",
    "\n",
    "                #choose A from S\n",
    "                if np.random.binomial(1,eps):\n",
    "                    a = np.random.choice(range(len(Q[state])))\n",
    "                else:\n",
    "                    a = greedyAction(state, Q)            \n",
    "\n",
    "\n",
    "\n",
    "                #take A and observe S'        \n",
    "                if (np.random.binomial(1, p_uniform)):\n",
    "                    nextState = trans[state][np.random.choice(range(4))]\n",
    "                else:\n",
    "                    nextState = trans[state][a]\n",
    "\n",
    "                #and R\n",
    "                R = r[nextState]\n",
    "\n",
    "                #greedy action from S'\n",
    "                next_greedy_a = greedyAction(nextState, Q)\n",
    "\n",
    "                Q[state][a]  += alpha * (R + gamma * Q[nextState][next_greedy_a] - Q[state][a])             \n",
    "\n",
    "                \"\"\"\n",
    "                keep track of states visited to compute relative novelty scores\n",
    "                \"\"\"\n",
    "                if nextState != state:\n",
    "                    states_visited.append(nextState)                \n",
    "                    nbVisits[nextState]+=1\n",
    "\n",
    "                \"Update novelty score of states visited nlag steps before and checkTarget\"\n",
    "                if len(states_visited) >= (2*ln):\n",
    "\n",
    "                    prec_seq = states_visited[-2*ln:-ln]\n",
    "                    succ_seq = states_visited[-ln:]                   \n",
    "                    score = rel_novelty(prec_seq, succ_seq)\n",
    "\n",
    "                    state2update = states_visited[-ln]\n",
    "\n",
    "                    if score >= t_RN:\n",
    "                        score =1\n",
    "                    else:\n",
    "                        score =0\n",
    "                    scores[state2update].append(score)\n",
    "\n",
    "                    if isTarget(state2update):\n",
    "                        nbSubGoal[state2update] +=1\n",
    "                        nbSubGoal_tot[state2update] += 1   \n",
    "\n",
    "                state = nextState           \n",
    "\n",
    "        goals_per_run.append((nbSubGoal>0).sum())"
   ]
  },
  {
   "cell_type": "code",
   "execution_count": 126,
   "metadata": {
    "collapsed": false
   },
   "outputs": [
    {
     "data": {
      "image/png": "[encoded data removed]",
      "text/plain": [
       "<matplotlib.figure.Figure at 0x927db38>"
      ]
     },
     "metadata": {},
     "output_type": "display_data"
    }
   ],
   "source": [
    "plt.imshow(nbSubGoal_tot, cmap='gray', interpolation='nearest')\n",
    "plt.show()"
   ]
  },
  {
   "cell_type": "code",
   "execution_count": null,
   "metadata": {
    "collapsed": true
   },
   "outputs": [],
   "source": []
  }
 ],
 "metadata": {
  "kernelspec": {
   "display_name": "Python 2",
   "language": "python",
   "name": "python2"
  },
  "language_info": {
   "codemirror_mode": {
    "name": "ipython",
    "version": 2
   },
   "file_extension": ".py",
   "mimetype": "text/x-python",
   "name": "python",
   "nbconvert_exporter": "python",
   "pygments_lexer": "ipython2",
   "version": "2.7.11"
  }
 },
 "nbformat": 4,
 "nbformat_minor": 0
}
