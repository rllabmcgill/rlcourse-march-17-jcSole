{
 "cells": [
  {
   "cell_type": "code",
   "execution_count": 9,
   "metadata": {
    "collapsed": true
   },
   "outputs": [],
   "source": [
    "import numpy as np\n",
    "import matplotlib.pyplot as plt"
   ]
  },
  {
   "cell_type": "code",
   "execution_count": 10,
   "metadata": {
    "collapsed": true
   },
   "outputs": [],
   "source": [
    "%matplotlib inline"
   ]
  },
  {
   "cell_type": "markdown",
   "metadata": {},
   "source": [
    "## Two rooms grid"
   ]
  },
  {
   "cell_type": "code",
   "execution_count": 11,
   "metadata": {
    "collapsed": false
   },
   "outputs": [
    {
     "data": {
      "image/png": "[encoded data removed]",
      "text/plain": [
       "<matplotlib.figure.Figure at 0x3f15668>"
      ]
     },
     "metadata": {},
     "output_type": "display_data"
    }
   ],
   "source": [
    "grid = np.zeros((10,21))\n",
    "grid[:,10] = -1\n",
    "grid[4,10] =  0\n",
    "GOAL = (9,20)\n",
    "WESTregion_LIMIT = 10 #not included \n",
    "plt.imshow(grid, cmap='gray', interpolation='nearest', extent = [0,21,0,10])\n",
    "ax = plt.gca();\n",
    "ax.set_xticks(np.arange(0,21, 1));\n",
    "ax.set_yticks(np.arange(0, 10, 1));\n",
    "ax.set_xticklabels([]);\n",
    "ax.set_yticklabels([]);\n",
    "plt.grid(color='black', which = 'major', linestyle='-')\n",
    "plt.show()"
   ]
  },
  {
   "cell_type": "code",
   "execution_count": 12,
   "metadata": {
    "collapsed": true
   },
   "outputs": [],
   "source": [
    "from collections import defaultdict\n",
    "from utils import getTransitions_and_Rewards"
   ]
  },
  {
   "cell_type": "code",
   "execution_count": 13,
   "metadata": {
    "collapsed": false
   },
   "outputs": [],
   "source": [
    "\"\"\"\n",
    "actions  = [up,down,right,left]\n",
    "\"\"\"\n",
    "trans, r = getTransitions_and_Rewards(grid, GOAL)\n",
    "gamma = 0.9\n",
    "p_uniform = 0.1"
   ]
  },
  {
   "cell_type": "markdown",
   "metadata": {},
   "source": [
    "## Q-learning"
   ]
  },
  {
   "cell_type": "code",
   "execution_count": 14,
   "metadata": {
    "collapsed": true
   },
   "outputs": [],
   "source": [
    "import sys\n",
    "from IPython.display import clear_output\n",
    "from random import shuffle"
   ]
  },
  {
   "cell_type": "code",
   "execution_count": 15,
   "metadata": {
    "collapsed": true
   },
   "outputs": [],
   "source": [
    "#with random ties breaking (and not just taking first action, otherwise I go into loop becuase rewards are 0 for non-term)\n",
    "def greedyAction(state, Q):\n",
    "    actions = range(4)\n",
    "    shuffle(actions)\n",
    "    \n",
    "    bestAct = -1\n",
    "    qMax = -np.inf\n",
    "    \n",
    "    for a in actions:        \n",
    "        if Q[state][a] > qMax:\n",
    "            bestAct = a\n",
    "            qMax    = Q[state][a]\n",
    "    \n",
    "    return bestAct\n",
    "        \n",
    "    "
   ]
  },
  {
   "cell_type": "code",
   "execution_count": 32,
   "metadata": {
    "collapsed": false
   },
   "outputs": [
    {
     "name": "stdout",
     "output_type": "stream",
     "text": [
      "29\n"
     ]
    }
   ],
   "source": [
    "westRegion = [(i,j) for i in range(10) for j in range(WESTregion_LIMIT)]\n",
    "eps = 0.1\n",
    "alpha = 0.05\n",
    "nbEpisodes = 80\n",
    "\n",
    "\n",
    "Steps_per_run = np.zeros((30,80))\n",
    "seeds = np.random.randint(1000, size=30)\n",
    "\n",
    "for run in range(30):  \n",
    "    np.random.seed(seeds[run])\n",
    "    Q = defaultdict(lambda: [0,0,0,0])\n",
    "    clear_output()\n",
    "    print run\n",
    "    sys.stdout.flush()\n",
    "    for episode in range(80):\n",
    "        state = westRegion[np.random.choice(range(len(westRegion)))]\n",
    "        nbSteps = 0\n",
    "        while (state != GOAL):\n",
    "            nbSteps +=1\n",
    "\n",
    "            #choose A from S\n",
    "            if np.random.binomial(1,eps):\n",
    "                a = np.random.choice(range(4))\n",
    "            else:\n",
    "                a = greedyAction(state, Q)            \n",
    "\n",
    "            #take A and observe S'        \n",
    "            if (np.random.binomial(1, p_uniform)):\n",
    "                nextState = trans[state][np.random.choice(range(4))]\n",
    "            else:\n",
    "                nextState = trans[state][a]\n",
    "\n",
    "            #and R\n",
    "            R = r[nextState]\n",
    "\n",
    "            #greedy action from S'\n",
    "            next_greedy_a = greedyAction(nextState, Q)\n",
    "            \n",
    "            Q[state][a]  += alpha * (R + gamma * Q[nextState][next_greedy_a] - Q[state][a]) \n",
    "\n",
    "            state = nextState\n",
    "        \n",
    "        Steps_per_run[run][episode] = nbSteps"
   ]
  },
  {
   "cell_type": "code",
   "execution_count": 17,
   "metadata": {
    "collapsed": true
   },
   "outputs": [],
   "source": [
    "avg_steps_per_episode = Steps_per_run.mean(axis=0)"
   ]
  },
  {
   "cell_type": "code",
   "execution_count": 18,
   "metadata": {
    "collapsed": false
   },
   "outputs": [
    {
     "data": {
      "image/png": "[encoded data removed]",
      "text/plain": [
       "<matplotlib.figure.Figure at 0x7a37ef0>"
      ]
     },
     "metadata": {},
     "output_type": "display_data"
    }
   ],
   "source": [
    "plt.plot(range(80), avg_steps_per_episode)\n",
    "plt.ylim(0,2600)\n",
    "plt.show()"
   ]
  },
  {
   "cell_type": "markdown",
   "metadata": {},
   "source": [
    "## Options discovery"
   ]
  },
  {
   "cell_type": "code",
   "execution_count": 19,
   "metadata": {
    "collapsed": true
   },
   "outputs": [],
   "source": [
    "novelty     = lambda s: 1.0/np.sqrt(nbVisits[s])\n",
    "\n",
    "set_novelty = lambda S: 1.0/np.sqrt(nbVisits[np.array([s[0] for s in S]), np.array([s[1] for s in S])].mean())  \n",
    "\n",
    "def rel_novelty(prev_sequence, succ_sequence):\n",
    "    return float(set_novelty(succ_sequence)) / set_novelty(prev_sequence)"
   ]
  },
  {
   "cell_type": "code",
   "execution_count": 20,
   "metadata": {
    "collapsed": true
   },
   "outputs": [],
   "source": [
    "def isTarget(state):    \n",
    "    n1 = sum(scores[state])\n",
    "    n  = len(scores[state])\n",
    "    rhs= np.log(float((1-q))/(1-p)) / np.log(float(p*(1-q))/q*(1-p)) + 1.0/n * (np.log(float(costRatio * priorRatio))/ np.log(float(p*(1-q)) / (q*(1-p))))\n",
    "    if (float(n1)/n > rhs):\n",
    "        return True\n",
    "    return False"
   ]
  },
  {
   "cell_type": "code",
   "execution_count": 21,
   "metadata": {
    "collapsed": true
   },
   "outputs": [],
   "source": [
    "def generateOption(I, subGoal):\n",
    "    #Option new value function and Subgoal specific reward\n",
    "    Q_o = defaultdict(lambda: [0,0,0,0])\n",
    "    r_o = np.zeros((10,21))\n",
    "        \n",
    "    for row in range(10):\n",
    "        for col in range(21):\n",
    "            state = (row,col)\n",
    "            if state in I:\n",
    "                r_o[state] = -1\n",
    "            elif state==subGoal:\n",
    "                r_o[state] =  50\n",
    "            else:\n",
    "                r_o[state] = -50\n",
    "                \n",
    "   \n",
    "    for e in range(10):\n",
    "        state = random.sample(I,1)[0]\n",
    "        while (state != subGoal and state in I):\n",
    "\n",
    "            #choose A from S\n",
    "            if np.random.binomial(1,eps):\n",
    "                a = np.random.choice(range(4))\n",
    "            else:\n",
    "                a = greedyAction(state, Q_o)            \n",
    "\n",
    "            #take A and observe S'        \n",
    "            if (np.random.binomial(1, p_uniform)):\n",
    "                nextState = trans[state][np.random.choice(range(4))]\n",
    "            else:\n",
    "                nextState = trans[state][a]\n",
    "\n",
    "            #and R\n",
    "            R = r_o[nextState]\n",
    "\n",
    "            #greedy action from S'\n",
    "            next_greedy_a = greedyAction(nextState, Q_o)\n",
    "            \n",
    "            Q_o[state][a]  += alpha * (R + gamma * Q_o[nextState][next_greedy_a] - Q_o[state][a]) \n",
    "\n",
    "            state = nextState\n",
    " \n",
    "    for state in I:\n",
    "        Options[state].append((I,Q_o, subGoal, r_o))\n",
    "        Q[state].append(0) #new Q_value of the option\n",
    "        \n",
    "def executeOption(state, optIdx):\n",
    "    option = Options[state][optIdx]\n",
    "    I      = option[0]\n",
    "    Q_o    = option[1]\n",
    "    subGoal= option[2]\n",
    "    r_o    = option[3]\n",
    "    \n",
    "    discSum = 0\n",
    "    nbSteps = 0   \n",
    "  \n",
    "    initState = state\n",
    "    while state in I and state != subGoal:        \n",
    "        #choose A from S\n",
    "        if np.random.binomial(1,eps):\n",
    "            a = np.random.choice(range(4))\n",
    "        else:\n",
    "            a = greedyAction(state, Q_o)            \n",
    "\n",
    "        #take A and observe S'        \n",
    "        if (np.random.binomial(1, p_uniform)):\n",
    "            nextState = trans[state][np.random.choice(range(4))]\n",
    "        else:\n",
    "            nextState = trans[state][a]\n",
    "\n",
    "        #and R\n",
    "        R = r_o[nextState]\n",
    "\n",
    "        #greedy action from S'\n",
    "        next_greedy_a = greedyAction(nextState, Q_o)\n",
    "\n",
    "        Q_o[state][a]  += alpha * (R + gamma * Q_o[nextState][next_greedy_a] - Q_o[state][a]) \n",
    "\n",
    "        state = nextState    \n",
    "        \n",
    "        discSum += r[nextState]*gamma**(nbSteps)\n",
    "        state = nextState\n",
    "        nbSteps +=1\n",
    "    \n",
    "    Q[initState][optIdx] += (discSum + gamma**(nbSteps)*Q[state][np.argmax(Q[state])])\n",
    "    #raw_input(\"Pausa\")    \n",
    "    return (state)"
   ]
  },
  {
   "cell_type": "code",
   "execution_count": 22,
   "metadata": {
    "collapsed": true
   },
   "outputs": [],
   "source": [
    "import random"
   ]
  },
  {
   "cell_type": "code",
   "execution_count": 63,
   "metadata": {
    "collapsed": false
   },
   "outputs": [
    {
     "name": "stdout",
     "output_type": "stream",
     "text": [
      "Run:  29\n",
      "Episode: 79\n"
     ]
    }
   ],
   "source": [
    "\"\"\" Classification parameters\"\"\"\n",
    "t_RN = 2\n",
    "p = 0.0712\n",
    "q = 0.0056\n",
    "costRatio = 100\n",
    "priorRatio = 100\n",
    "ln = 7\n",
    "lo = 10 #nb states to include in the Inititation state\n",
    "\n",
    "\n",
    "westRegion = [(i,j) for i in range(10) for j in range(WESTregion_LIMIT)]\n",
    "eps = 0.1\n",
    "alpha = 0.05\n",
    "nbEpisodes = 80\n",
    "\n",
    "nbSubGoal_tot = np.zeros((10,21))\n",
    "\n",
    "Steps_per_run = np.zeros((30,80))\n",
    "goals_per_run = []\n",
    "\n",
    "for run in range(30):    \n",
    "    np.random.seed(seeds[run])\n",
    "    Q = defaultdict(lambda: [0,0,0,0]) \n",
    "    scores = defaultdict(list)\n",
    "    nbSubGoal = np.zeros((10,21))    \n",
    "    \n",
    "   \n",
    "    Options = defaultdict(lambda: [0,0,0,0])\n",
    "    prec_VisitSum = 0\n",
    "    succ_VisitSum = 0\n",
    "    for episode in range(80): \n",
    "        clear_output()  \n",
    "        print \"Run: \",run\n",
    "        print \"Episode:\", episode\n",
    "        sys.stdout.flush()\n",
    "        #RESET visit counts\n",
    "        nbVisits = np.zeros((10,21))        \n",
    "        states_visited = []        \n",
    "        \n",
    "        state = westRegion[np.random.choice(range(len(westRegion)))]\n",
    "        nbSteps = 0\n",
    "        \n",
    "        states_visited.append(state)\n",
    "        nbVisits[state] +=1  \n",
    "       \n",
    "        while (state != GOAL):\n",
    "            nbSteps +=1\n",
    "            #choose A from S\n",
    "            if np.random.binomial(1,eps):\n",
    "                a = np.random.choice(range(len(Q[state])))\n",
    "            else:\n",
    "                a = greedyAction(state, Q)            \n",
    "            \n",
    "            \n",
    "            if a<4:\n",
    "                #take A and observe S'        \n",
    "                if (np.random.binomial(1, p_uniform)):\n",
    "                    nextState = trans[state][np.random.choice(range(4))]\n",
    "                else:\n",
    "                    nextState = trans[state][a]\n",
    "\n",
    "                #and R\n",
    "                R = r[nextState]\n",
    "\n",
    "                #greedy action from S'\n",
    "                next_greedy_a = greedyAction(nextState, Q)\n",
    "\n",
    "                Q[state][a]  += alpha * (R + gamma * Q[nextState][next_greedy_a] - Q[state][a]) \n",
    "               \n",
    "            \n",
    "            else:                \n",
    "                nextState = executeOption(state, a)\n",
    "            \"\"\"\n",
    "            keep track of states visited to compute relative novelty scores\n",
    "            \"\"\"\n",
    "            if nextState != state:\n",
    "                states_visited.append(nextState)                \n",
    "                nbVisits[nextState]+=1\n",
    "            \n",
    "            \"Update novelty score of states visited nlag steps before and checkTarget\"\n",
    "            if len(states_visited) >= (2*ln):\n",
    "                \n",
    "                prec_seq = states_visited[-2*ln:-ln]\n",
    "                succ_seq = states_visited[-ln:]\n",
    "                score = rel_novelty(prec_seq, succ_seq)\n",
    "                \n",
    "                state2update = states_visited[-ln]\n",
    "                \n",
    "                if score >= t_RN:\n",
    "                    score =1\n",
    "                else:\n",
    "                    score =0\n",
    "                scores[state2update].append(score)\n",
    "                \n",
    "                if isTarget(state2update):\n",
    "                    nbSubGoal[state2update] +=1\n",
    "                    nbSubGoal_tot[state2update] += 1\n",
    "                    \"\"\"Create Option\"\"\"\n",
    "                    I = set(states_visited[-lo-ln:-ln])\n",
    "                    generateOption(I, state2update)\n",
    "                      \n",
    "            state = nextState\n",
    "             \n",
    "        Steps_per_run[run][episode] = nbSteps\n",
    "    goals_per_run.append((nbSubGoal>0).sum())"
   ]
  },
  {
   "cell_type": "markdown",
   "metadata": {},
   "source": [
    "## Subgoal identified in last episode"
   ]
  },
  {
   "cell_type": "code",
   "execution_count": 26,
   "metadata": {
    "collapsed": false
   },
   "outputs": [
    {
     "data": {
      "image/png": "[encoded data removed]",
      "text/plain": [
       "<matplotlib.figure.Figure at 0x7bacbe0>"
      ]
     },
     "metadata": {},
     "output_type": "display_data"
    }
   ],
   "source": [
    "plt.imshow(nbSubGoal, cmap='gray', interpolation='nearest')\n",
    "plt.show()"
   ]
  },
  {
   "cell_type": "markdown",
   "metadata": {},
   "source": [
    "## Subgoals identified more often in the 30 runs"
   ]
  },
  {
   "cell_type": "code",
   "execution_count": 61,
   "metadata": {
    "collapsed": false
   },
   "outputs": [
    {
     "data": {
      "image/png": "[encoded data removed]",
      "text/plain": [
       "<matplotlib.figure.Figure at 0x8d95710>"
      ]
     },
     "metadata": {},
     "output_type": "display_data"
    }
   ],
   "source": [
    "plt.imshow(nbSubGoal_tot, cmap='gray', interpolation='nearest')\n",
    "plt.savefig('subgoals-2rooms.png', bbox_inches='tight')\n",
    "plt.show()"
   ]
  },
  {
   "cell_type": "code",
   "execution_count": 64,
   "metadata": {
    "collapsed": false
   },
   "outputs": [
    {
     "data": {
      "image/png": "[encoded data removed]",
      "text/plain": [
       "<matplotlib.figure.Figure at 0x9526eb8>"
      ]
     },
     "metadata": {},
     "output_type": "display_data"
    }
   ],
   "source": [
    "avg_steps_per_episode_Opt = Steps_per_run.mean(axis=0)\n",
    "plt.plot(range(80), avg_steps_per_episode_Opt, label='With Options')\n",
    "plt.plot(range(80), avg_steps_per_episode, label = 'Without Options')\n",
    "plt.xlabel('Number of Episodes')\n",
    "plt.ylabel('Average number of steps')\n",
    "plt.ylim(0,2600)\n",
    "plt.legend()\n",
    "plt.savefig('comput.png', bbox_inches='tight')\n",
    "plt.show()"
   ]
  },
  {
   "cell_type": "code",
   "execution_count": null,
   "metadata": {
    "collapsed": true
   },
   "outputs": [],
   "source": []
  }
 ],
 "metadata": {
  "kernelspec": {
   "display_name": "Python 2",
   "language": "python",
   "name": "python2"
  },
  "language_info": {
   "codemirror_mode": {
    "name": "ipython",
    "version": 2
   },
   "file_extension": ".py",
   "mimetype": "text/x-python",
   "name": "python",
   "nbconvert_exporter": "python",
   "pygments_lexer": "ipython2",
   "version": "2.7.11"
  }
 },
 "nbformat": 4,
 "nbformat_minor": 0
}
