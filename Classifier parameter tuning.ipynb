{
 "cells": [
  {
   "cell_type": "code",
   "execution_count": 2,
   "metadata": {
    "collapsed": true
   },
   "outputs": [],
   "source": [
    "import numpy as np\n",
    "import matplotlib.pyplot as plt\n",
    "import random\n",
    "import sys\n",
    "from IPython.display import clear_output\n",
    "from random import shuffle\n",
    "from collections import defaultdict\n",
    "from utils import getTransitions_and_Rewards"
   ]
  },
  {
   "cell_type": "code",
   "execution_count": 3,
   "metadata": {
    "collapsed": true
   },
   "outputs": [],
   "source": [
    "%matplotlib inline"
   ]
  },
  {
   "cell_type": "markdown",
   "metadata": {},
   "source": [
    "The training of the classifier is done on the Two-rooms grid, in the purpose is to determine the classifier settings to be used in settings similar to the training one"
   ]
  },
  {
   "cell_type": "markdown",
   "metadata": {},
   "source": [
    "## Two rooms grid"
   ]
  },
  {
   "cell_type": "code",
   "execution_count": 7,
   "metadata": {
    "collapsed": false
   },
   "outputs": [
    {
     "data": {
      "image/png": "[encoded data removed]",
      "text/plain": [
       "<matplotlib.figure.Figure at 0x6901710>"
      ]
     },
     "metadata": {},
     "output_type": "display_data"
    }
   ],
   "source": [
    "grid = np.zeros((10,21))\n",
    "grid[:,10] = -1\n",
    "grid[4,10] =  0\n",
    "GOAL = (9,20)\n",
    "WESTregion_LIMIT = 10 #not included \n",
    "plt.imshow(grid, cmap='gray', interpolation='nearest', extent = [0,21,0,10])\n",
    "ax = plt.gca();\n",
    "ax.set_xticks(np.arange(0,21, 1));\n",
    "ax.set_yticks(np.arange(0, 10, 1));\n",
    "ax.set_xticklabels([]);\n",
    "ax.set_yticklabels([]);\n",
    "plt.grid(color='black', which = 'major', linestyle='-')\n",
    "plt.savefig(\"2rooms.png\", bbox_inches='tight')\n",
    "plt.show()"
   ]
  },
  {
   "cell_type": "markdown",
   "metadata": {
    "collapsed": false
   },
   "source": [
    "* actions  = [up,down,right,left]\n",
    "* If against the wall, the position stays the same\n"
   ]
  },
  {
   "cell_type": "code",
   "execution_count": 11,
   "metadata": {
    "collapsed": false
   },
   "outputs": [],
   "source": [
    "trans, _ = getTransitions_and_Rewards(grid, GOAL)"
   ]
  },
  {
   "cell_type": "markdown",
   "metadata": {},
   "source": [
    "## Determine class conditional *relative novelty scores* distributions:"
   ]
  },
  {
   "cell_type": "code",
   "execution_count": 12,
   "metadata": {
    "collapsed": true
   },
   "outputs": [],
   "source": [
    "novelty     = lambda s: 1.0/np.sqrt(nbVisits[s])\n",
    "\n",
    "set_novelty = lambda S: 1.0/np.sqrt(nbVisits[np.array([s[0] for s in S]), np.array([s[1] for s in S])].mean())  \n",
    "\n",
    "def rel_novelty(prev_sequence, succ_sequence):\n",
    "    return float(set_novelty(succ_sequence)) / set_novelty(prev_sequence)"
   ]
  },
  {
   "cell_type": "code",
   "execution_count": 13,
   "metadata": {
    "collapsed": false
   },
   "outputs": [
    {
     "name": "stdout",
     "output_type": "stream",
     "text": [
      "RUN: 999\n"
     ]
    }
   ],
   "source": [
    "ln = 7 #according to the paper\n",
    "\n",
    "scores_per_run = defaultdict(list)\n",
    "stateList = [(i,j) for i in range(10) for j in range(21)]\n",
    "\n",
    "for run in range(1000):\n",
    "    nbVisits = np.zeros((10,21))\n",
    "    scores = defaultdict(list)\n",
    "    \n",
    "    clear_output()\n",
    "    print \"RUN:\", run\n",
    "    sys.stdout.flush()\n",
    "    \n",
    "    state = stateList[np.random.choice(range(len(stateList)))]\n",
    "    while grid[state] <0:\n",
    "        state = stateList[np.random.choice(range(len(stateList)))]\n",
    "    states_visited = [state]   \n",
    "    \n",
    "    for step in range(1000):\n",
    "            nextState = trans[state][np.random.choice(range(4))]\n",
    "            \"\"\"\n",
    "            keep track of states visited to compute relative novelty scores\n",
    "            \"\"\"\n",
    "            if nextState != state:\n",
    "                states_visited.append(nextState)\n",
    "                nbVisits[nextState]+=1\n",
    "            \n",
    "            \"Update novelty score of states visited nlag steps before \"\n",
    "            if len(states_visited) >= (2*ln):\n",
    "                prec_seq = states_visited[-2*ln:-ln]\n",
    "                succ_seq = states_visited[-ln:]\n",
    "                state2update = states_visited[-ln]\n",
    "                score = rel_novelty(prec_seq, succ_seq)               \n",
    "                scores[state2update].append(score)                \n",
    "              \n",
    "            state = nextState    \n",
    "    for state in stateList:\n",
    "        if grid[state] < 0:\n",
    "            continue\n",
    "        scores_per_run[(state)].append(scores[state])"
   ]
  },
  {
   "cell_type": "code",
   "execution_count": 14,
   "metadata": {
    "collapsed": false
   },
   "outputs": [],
   "source": [
    "scores_tot = defaultdict(list)\n",
    "for state in stateList:\n",
    "    if grid[state] < 0:\n",
    "        continue\n",
    "    scores_tot[state] = [val for sublist in scores_per_run[state] for val in sublist]"
   ]
  },
  {
   "cell_type": "code",
   "execution_count": 15,
   "metadata": {
    "collapsed": true
   },
   "outputs": [],
   "source": [
    "class_scores = []\n",
    "class_scores.append( scores_tot[(4,10)] )\n",
    "class_scores.append( scores_tot[state] for state in stateList if state!= (4,10) and grid[state]>=0 )"
   ]
  },
  {
   "cell_type": "code",
   "execution_count": 16,
   "metadata": {
    "collapsed": false
   },
   "outputs": [],
   "source": [
    "class_scores[1] = [val for sublist in class_scores[1] for val in sublist]"
   ]
  },
  {
   "cell_type": "code",
   "execution_count": 17,
   "metadata": {
    "collapsed": false
   },
   "outputs": [],
   "source": [
    "t = np.histogram(class_scores[0], bins=np.arange(0,5,0.05))\n",
    "nt= np.histogram(class_scores[1], bins=np.arange(0,5,0.05))"
   ]
  },
  {
   "cell_type": "code",
   "execution_count": 18,
   "metadata": {
    "collapsed": false
   },
   "outputs": [],
   "source": [
    "t_n  = np.array([float(x)/np.sum(t[0]) for x in t[0]])\n",
    "nt_n = np.array([float(x)/np.sum(nt[0]) for x in nt[0]])"
   ]
  },
  {
   "cell_type": "code",
   "execution_count": 19,
   "metadata": {
    "collapsed": false
   },
   "outputs": [
    {
     "data": {
      "image/png": "[encoded data removed]",
      "text/plain": [
       "<matplotlib.figure.Figure at 0x8344080>"
      ]
     },
     "metadata": {},
     "output_type": "display_data"
    }
   ],
   "source": [
    "plt.plot(t[1][1:], t_n, label='access states')\n",
    "plt.plot(nt[1][1:], nt_n, label = 'not-acces states')\n",
    "plt.legend()\n",
    "plt.title(\"class conditional scores distributions\")\n",
    "plt.xlabel('Relative novelty Scores')\n",
    "plt.ylabel('Proportion of Observed Scores')\n",
    "plt.savefig('distrib.png', bbox_inches='tight')\n",
    "plt.show()"
   ]
  },
  {
   "cell_type": "markdown",
   "metadata": {},
   "source": [
    "## Determine t-RN    "
   ]
  },
  {
   "cell_type": "code",
   "execution_count": 21,
   "metadata": {
    "collapsed": true
   },
   "outputs": [],
   "source": [
    "t_RN_values = np.arange(0.5,3,0.5)"
   ]
  },
  {
   "cell_type": "code",
   "execution_count": 22,
   "metadata": {
    "collapsed": true
   },
   "outputs": [],
   "source": [
    "class_scores_tuples = []\n",
    "class_scores_tuples.append([(1, score) for score in class_scores[0]])\n",
    "class_scores_tuples.append([(0, score) for score in class_scores[1]])\n",
    "\n",
    "labeled_scores = [val for val in class_scores_tuples[0]+class_scores_tuples[1]]"
   ]
  },
  {
   "cell_type": "code",
   "execution_count": 23,
   "metadata": {
    "collapsed": false
   },
   "outputs": [],
   "source": [
    "labeled_scores_sorted = sorted(labeled_scores, key=lambda t: -t[1])"
   ]
  },
  {
   "cell_type": "code",
   "execution_count": 27,
   "metadata": {
    "collapsed": false
   },
   "outputs": [
    {
     "data": {
      "image/png": "[encoded data removed]",
      "text/plain": [
       "<matplotlib.figure.Figure at 0x11e81198>"
      ]
     },
     "metadata": {},
     "output_type": "display_data"
    }
   ],
   "source": [
    "fig, ax = plt.subplots()\n",
    "\n",
    "for t in t_RN_values:\n",
    "    binary_target = np.array(class_scores[0])\n",
    "    binary_target[binary_target<t]  = 0\n",
    "    binary_target[binary_target>=t] = 1\n",
    "    \n",
    "    \n",
    "    binary_not_target = np.array(class_scores[1])\n",
    "    binary_not_target[binary_not_target<t]  = 0\n",
    "    binary_not_target[binary_not_target>=t] = 1\n",
    "    \n",
    "    \n",
    "    tp_perc = (binary_target==1).sum()/float(len(class_scores[0]))    \n",
    "    fp_perc = ((binary_not_target==1).sum() )/ float(len(class_scores[1]))    \n",
    "    ax.scatter(fp_perc, tp_perc)\n",
    "    ax.annotate(t, (fp_perc, tp_perc))\n",
    "plt.xlabel('False Positive')\n",
    "plt.ylabel(\"True Positive\")\n",
    "plt.title('ROC points for a few threshold')\n",
    "plt.savefig('roc.png', bbox_inches='tight')\n",
    "plt.show()"
   ]
  },
  {
   "cell_type": "markdown",
   "metadata": {},
   "source": [
    "Since avoiding False Positive examples is more important than having many True Positive examples, we decide to choose a threshold that minimize the number of False Positive as much as possible. Consistently with the results of *Simsek, Barto (2004)*, we find that 2 is a good value for $t_{RN}$"
   ]
  },
  {
   "cell_type": "markdown",
   "metadata": {},
   "source": [
    "## Determinine p,q"
   ]
  },
  {
   "cell_type": "markdown",
   "metadata": {},
   "source": [
    "After we choose a threshold $t_{RN}$, we can transform each relative novelty score to a binary feature $x$, where $x=1$ if $score>t_{RN}$, and 0 otherwise"
   ]
  },
  {
   "cell_type": "markdown",
   "metadata": {},
   "source": [
    "$$\n",
    "p = P\\{x=1|T\\}\n",
    "$$\n",
    "\n",
    "$$ q = P\\{x=1|N\\}  $$"
   ]
  },
  {
   "cell_type": "code",
   "execution_count": 17,
   "metadata": {
    "collapsed": false
   },
   "outputs": [
    {
     "name": "stdout",
     "output_type": "stream",
     "text": [
      "0.0756273633551\n",
      "0.00644149072466\n"
     ]
    }
   ],
   "source": [
    "t_RN = 2\n",
    "\n",
    "target = np.array(class_scores[0])\n",
    "p = (target>= t_RN).sum() / float(target.shape[0])\n",
    "\n",
    "not_target = np.array(class_scores[1])\n",
    "q = (not_target>= t_RN).sum() / float(not_target.shape[0])\n",
    "\n",
    "print p\n",
    "print q"
   ]
  },
  {
   "cell_type": "markdown",
   "metadata": {},
   "source": [
    "The results are very similar to the one reported by *Simsek, Barto (2004)* : *p = 0.0712* and *q=0.0056*, with the small differences probably due to the randomness in the procedure"
   ]
  },
  {
   "cell_type": "markdown",
   "metadata": {},
   "source": [
    "## Costs and Priors ratios"
   ]
  },
  {
   "cell_type": "markdown",
   "metadata": {},
   "source": [
    "Since only some guidelines are provided to determine these  values, we decide to use the ones of *Simsek, Barto (2004)*"
   ]
  },
  {
   "cell_type": "markdown",
   "metadata": {},
   "source": [
    "## References"
   ]
  },
  {
   "cell_type": "markdown",
   "metadata": {},
   "source": [
    "[1]  Şimşek, Özgür, and Andrew G. Barto. *\"Using relative novelty to identify useful temporal abstractions in reinforcement learning.\"* Proceedings of the twenty-first international conference on Machine learning. ACM, 2004."
   ]
  }
 ],
 "metadata": {
  "kernelspec": {
   "display_name": "Python 2",
   "language": "python",
   "name": "python2"
  },
  "language_info": {
   "codemirror_mode": {
    "name": "ipython",
    "version": 2
   },
   "file_extension": ".py",
   "mimetype": "text/x-python",
   "name": "python",
   "nbconvert_exporter": "python",
   "pygments_lexer": "ipython2",
   "version": "2.7.11"
  }
 },
 "nbformat": 4,
 "nbformat_minor": 0
}
